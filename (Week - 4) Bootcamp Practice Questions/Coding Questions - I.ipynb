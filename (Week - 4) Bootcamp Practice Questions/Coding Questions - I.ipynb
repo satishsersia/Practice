{
 "cells": [
  {
   "cell_type": "code",
   "execution_count": 1,
   "id": "3612b313-d2a2-4911-b7c3-b703e6f3ce0a",
   "metadata": {},
   "outputs": [],
   "source": [
    "import numpy as np"
   ]
  },
  {
   "cell_type": "markdown",
   "id": "72fc6c13-abd9-426b-a5cd-ce660fe4ea19",
   "metadata": {},
   "source": [
    "### **Greater than 3**\n",
    "Description\n",
    "\n",
    "Given an nxn array, print only the elements that are greater than three as a 1D array.\n",
    "\n",
    "\n",
    "Input: nxn array\n",
    "\n",
    "Output: 1D array containing elements that are greater than 3\n",
    "\n",
    "\n",
    "Sample Input 1: [[9,8,7],[6,5,4],[3,2,1]]\n",
    "\n",
    "Sample Output 1: [9 8 7 6 5 4]\n",
    "\n",
    "\n",
    "Sample Input 2: [[-1, 2, 0],[1,3,5],[3,2,1]]\n",
    "\n",
    "Sample Output 2: [5]"
   ]
  },
  {
   "cell_type": "code",
   "execution_count": null,
   "id": "44fb68b8-e9e6-4bda-9d23-145039b46661",
   "metadata": {},
   "outputs": [],
   "source": [
    "import numpy as np\n",
    "import ast\n",
    "#input has been taken for you\n",
    "inp_list=ast.literal_eval(input())\n",
    "arr=np.array(inp_list)\n",
    "\n",
    "#write your code here\n",
    "print(arr[arr > 3])\n"
   ]
  },
  {
   "cell_type": "markdown",
   "id": "6b070c37-d269-483c-9187-bb481cbeb750",
   "metadata": {},
   "source": [
    "### **Percentile**\n",
    "Description\n",
    "\n",
    "Calculate the 60th percentile of the given NumPy array.\n",
    "\n",
    "\n",
    "Input: 1D array\n",
    "\n",
    "Output: Value of 60th percentile rounded off to two decimal places\n",
    "\n",
    "\n",
    "Sample Input 1: [11, 22, 33, 44 ,55 ,66, 77]\n",
    "\n",
    "Sample Output 1: 50.6\n",
    "\n",
    "\n",
    "Sample Input 2: [-1, 2, 0, 1, 3, 5, 3, 2, 1]\n",
    "\n",
    "Sample Output 2: 2.0"
   ]
  },
  {
   "cell_type": "code",
   "execution_count": null,
   "id": "c6db9503-325d-4189-afb7-afe645318833",
   "metadata": {},
   "outputs": [],
   "source": [
    "import numpy as np\n",
    "import ast\n",
    "\n",
    "#input has been taken for you\n",
    "arr = np.array(ast.literal_eval(input()))\n",
    "\n",
    "# write your code here\n",
    "print(f'{np.percentile(arr,60):.1f}')"
   ]
  },
  {
   "cell_type": "markdown",
   "id": "3f013c0f-d0ff-4315-b0fe-d32ff576dcbd",
   "metadata": {},
   "source": [
    "### **Statistics**\n",
    "Description\n",
    "\n",
    "Given a positive integer 'n', write a program that computes the mean, the standard deviation and the variance of the numbers starting from 0 to n-1, rounded off to two decimal places.\n",
    "\n",
    "\n",
    "Input: First line of input containing mxn array as a nested list and the second line containing an integer 'k' less than 'n'.\n",
    "\n",
    "Output: mxn array sorted by column 'n'.\n",
    "\n",
    "\n",
    "Sample Input 1: 16\n",
    "\n",
    "Sample Output 1: \n",
    "\n",
    "7.5\n",
    "\n",
    "4.61\n",
    "\n",
    "21.25\n",
    "\n",
    "\n",
    "Explanation: 7.5, 4.61, and 21.5 are the mean, standard deviation and variance of the list of numbers from 0 to 15(included).\n",
    "\n",
    "\n"
   ]
  },
  {
   "cell_type": "code",
   "execution_count": null,
   "id": "52f7a255-43ad-4421-8af0-f878433dfc32",
   "metadata": {},
   "outputs": [],
   "source": [
    "print(lst.mean())\n",
    "print(f'{lst.std():.2f}')\n",
    "print(lst.var())"
   ]
  }
 ],
 "metadata": {
  "kernelspec": {
   "display_name": "Python 3 (ipykernel)",
   "language": "python",
   "name": "python3"
  },
  "language_info": {
   "codemirror_mode": {
    "name": "ipython",
    "version": 3
   },
   "file_extension": ".py",
   "mimetype": "text/x-python",
   "name": "python",
   "nbconvert_exporter": "python",
   "pygments_lexer": "ipython3",
   "version": "3.9.7"
  }
 },
 "nbformat": 4,
 "nbformat_minor": 5
}
