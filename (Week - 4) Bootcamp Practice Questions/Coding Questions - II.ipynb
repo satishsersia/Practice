{
 "cells": [
  {
   "cell_type": "markdown",
   "id": "e4520d69-7ea6-475f-813d-16d34fa9650a",
   "metadata": {},
   "source": [
    "### **Print Z**\n",
    "Description\n",
    "Given a single positive integer 'n' greater than 2, create a NumPy array of size (n x n) will all zeros and ones such that the ones make a shape like 'Z'.\n",
    "\n",
    "Examples:\n",
    "Input 1:\n",
    "3\n",
    "Output 1:\n",
    "[[1 1 1]\n",
    " [0 1 0]\n",
    " [1 1 1]]\n",
    "Input 2:\n",
    "5\n",
    "Output 1:\n",
    "[[1 1 1 1 1]\n",
    " [0 0 0 1 0]\n",
    " [0 0 1 0 0]\n",
    " [0 1 0 0 0]\n",
    " [1 1 1 1 1]]\n",
    "\n",
    "Explanation: Notice that the 1s in the array make a shape like 'Z'."
   ]
  },
  {
   "cell_type": "code",
   "execution_count": null,
   "id": "56f7f93a-f253-4e87-89c6-9d535a408719",
   "metadata": {},
   "outputs": [],
   "source": [
    "# Read the input\n",
    "n = int(input())\n",
    "\n",
    "# Import the NumPy package\n",
    "import numpy as np \n",
    "\n",
    "# Write your code here\n",
    "out = np.eye(n, dtype=int)\n",
    "out[[0,-1]] = 1\n",
    "print(out[::-1])"
   ]
  },
  {
   "cell_type": "markdown",
   "id": "0da3e6d9-556c-41f6-8213-593c67dbd962",
   "metadata": {},
   "source": [
    "### **Sort by Column**\n",
    "Description\n",
    "Given a 2D NumPy array, sort it by the 1st column. Print the final sorted array as a NumPy array only.\n",
    "\n",
    "Note: If two values in the 1st column are equal then the column in which the 2nd column value is lesser should come first. If the value in the second column is also the same then go to the third value and so on.\n",
    "\n",
    "Example:\n",
    "Input 1:\n",
    "[[9 3 2]\n",
    " [4 0 1]\n",
    " [5 8 6]]\n",
    "Output 2:\n",
    "[[4 0 1]\n",
    " [5 8 6]\n",
    " [9 3 2]]\n",
    "Input 2:\n",
    "[[9 3 2]\n",
    " [4 0 1]\n",
    " [9 8 6]]\n",
    "Output 2:\n",
    "[[4 0 1]\n",
    " [9 3 2]\n",
    " [9 8 6]]\n",
    "\n",
    "Explanation:\n",
    "Example 1: Notice that the values in the first column are sorted. Also notice that the whole row should be moved and not just the individual values in the first column. For example, the row with the smallest value, i.e. 4 was moved as a whole. \n",
    "Example 2: Since this time the first row contains two 9s, the row in which the value in the second column is lesser came first."
   ]
  },
  {
   "cell_type": "code",
   "execution_count": null,
   "id": "62f3e5ef-40b8-461e-9eda-b8bc827c1f84",
   "metadata": {},
   "outputs": [],
   "source": [
    "# Reading the input list\n",
    "import ast,sys\n",
    "input_str = sys.stdin.read()\n",
    "input_list = ast.literal_eval(input_str)\n",
    "\n",
    "# Import the NumPy package\n",
    "import numpy as np\n",
    "\n",
    "# Converting the list to a NumPy array\n",
    "n_array = np.array(input_list)\n",
    "\n",
    "# Write your code here\n",
    "for i in range(len(n_array[0, :])):\n",
    "    n_array = n_array[n_array[:,-1-i].argsort()]\n",
    "print(n_array)\n"
   ]
  }
 ],
 "metadata": {
  "kernelspec": {
   "display_name": "Python 3 (ipykernel)",
   "language": "python",
   "name": "python3"
  },
  "language_info": {
   "codemirror_mode": {
    "name": "ipython",
    "version": 3
   },
   "file_extension": ".py",
   "mimetype": "text/x-python",
   "name": "python",
   "nbconvert_exporter": "python",
   "pygments_lexer": "ipython3",
   "version": "3.9.7"
  }
 },
 "nbformat": 4,
 "nbformat_minor": 5
}
