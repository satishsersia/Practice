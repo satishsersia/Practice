{
 "cells": [
  {
   "cell_type": "markdown",
   "id": "9b59678b-376f-4173-9609-f7804d930d59",
   "metadata": {},
   "source": [
    "#### ***Sorting a dictionary***\n",
    "Description\n",
    "\n",
    "Given is a list consisting of dictionary elements. Each dictionary contains the name of a student as a first item and his/her corresponding rank as the second item. Your task is to write a Python program to print the list (dictionary elements) in a sorted ascending order according to student ranks. In case the rank of two or more students are the same, then sort them in ascending order (alphabetically) according to their names.\n",
    "\n",
    "\n",
    "Note: Use the sorted() function to solve the question.\n",
    "\n",
    "\n",
    "Input: Dictionary\n",
    "\n",
    "Output: Dictionary\n",
    "\n",
    "\n",
    "----------------------------------------------------------------------\n",
    "\n",
    "\n",
    "Sample input: [{ \"name\" : \"Arpit\", \"rank\" : 20}, { \"name\" : \"Manjeet\", \"rank\" : 20 },{ \"name\" : \"Aravind\" , \"rank\" : 19 }]\n",
    "\n",
    "Sample output: [{ \"name\" : \"Aravind\" , \"rank\" : 19 }, { \"name\" : \"Arpit\", \"rank\" : 20}, { \"name\" : \"Manjeet\", \"rank\" : 20 },\n",
    "\n",
    "]\n",
    "\n",
    "\n",
    "----------------------------------------------------------------------"
   ]
  },
  {
   "cell_type": "code",
   "execution_count": null,
   "id": "86614ba7-2611-41c8-9158-0d549e71c84b",
   "metadata": {},
   "outputs": [],
   "source": [
    "#take input here using ast sys\n",
    "import ast\n",
    "input_lst = ast.literal_eval(input())\n",
    "# write the code here\n",
    "\n",
    "ans  = sorted(input_lst,key = lambda x: (x['rank'],x['name']))\n",
    "print(ans)"
   ]
  },
  {
   "cell_type": "markdown",
   "id": "dd4ddca5-129d-410f-91e3-f9c293fddde7",
   "metadata": {},
   "source": [
    "#### **Intersection of lists**\n",
    "Description\n",
    "\n",
    "In ‘ABC’ university, company ‘XYZ’ conducted three rounds of interviews to recruit students. Those students who passed all the rounds were selected. The company released the results for each round in a separate list. Your task is to write a Python code to display the list of the students who passed all the three rounds.\n",
    "\n",
    "\n",
    "Note: a. Name of the person can be given in uppercase or lowercase.\n",
    "\n",
    "\n",
    " b. Print the names in lowercase in the output.\n",
    "\n",
    "\n",
    "Input: List\n",
    "\n",
    "List\n",
    "\n",
    "List\n",
    "\n",
    "\n",
    "Output: List\n",
    "\n",
    "\n",
    "----------------------------------------------------------------------\n",
    "\n",
    "\n",
    "Sample input: ['Arkam', 'Bairstow', 'Cairy', 'Darpan'] \n",
    "\n",
    " ['ARKAM', 'Bairstow', 'Cairy', 'Darpan', 'Dhoni', 'Sachin']\n",
    "\n",
    " ['arkam', 'bairstow', 'Cheteshwar', 'Dinesh']\n",
    "\n",
    "        \n",
    "\n",
    "Sample output: ['arkam', 'bairstow']\n",
    "\n",
    "\n",
    "----------------------------------------------------------------------"
   ]
  },
  {
   "cell_type": "code",
   "execution_count": null,
   "id": "1ff38ad0-ef5b-49a2-b9c3-eee18a99c91d",
   "metadata": {},
   "outputs": [],
   "source": [
    "#take input here using ast sys\n",
    "import ast\n",
    "input_list_1 = ast.literal_eval(input())\n",
    "input_list_2 = ast.literal_eval(input())\n",
    "input_list_3 = ast.literal_eval(input())\n",
    "# write the code here\n",
    "input_list_1 = list(map(lambda x: x.lower(),input_list_1))\n",
    "input_list_2 = list(map(lambda x: x.lower(),input_list_2))\n",
    "input_list_3 = list(map(lambda x: x.lower(),input_list_3))\n",
    "\n",
    "ans = []\n",
    "for i in input_list_1:\n",
    "    if (i in input_list_2) and (i in input_list_3):\n",
    "        ans.append(i)\n",
    "\n",
    "print(ans)"
   ]
  },
  {
   "cell_type": "code",
   "execution_count": null,
   "id": "a5337978-617a-4b90-9895-c93cff9a5844",
   "metadata": {
    "tags": []
   },
   "outputs": [],
   "source": [
    "#Partially correct because the result is sorted\n",
    "#take input here using ast sys\n",
    "import ast\n",
    "input_lst_1 = (ast.literal_eval(input()))\n",
    "input_lst_2 = (ast.literal_eval(input()))\n",
    "input_lst_3 = (ast.literal_eval(input()))\n",
    "# write the code here\n",
    "set_1 = set(map(str.lower,input_lst_1))\n",
    "set_2 = set(map(str.lower,input_lst_2))\n",
    "set_3 = set(map(str.lower,input_lst_3))\n",
    "\n",
    "ans = set_1.intersection(set_2).intersection(set_3)\n",
    "\n",
    "print(sorted(list(ans)))"
   ]
  },
  {
   "cell_type": "markdown",
   "id": "2db4dfa0-abb2-451e-abd8-c24996eb2eb7",
   "metadata": {},
   "source": [
    "#### **Sorting a list of dictionary elements**\n",
    "Description\n",
    "\n",
    "A teacher decided to divide the class into groups to conduct fun activities. Each group had one or more members in it. The data is provided in the form of a list with dictionary elements. The key and value in each dictionary correspond to the student’s roll number and his/her name.\n",
    "\n",
    "\n",
    "In case the length of two or more dictionaries are the same, then the dictionary that occurs first in the input list will also appear first among the other dictionaries of the same length.\n",
    "\n",
    "\n",
    "Your task is to write a Python program to sort the list in descending order with respect to the group strength.﻿\n",
    "\n",
    "\n",
    "Note: Use lambda and sorted functions to solve the question.\n",
    "\n",
    "\n",
    "Input: List\n",
    "\n",
    "Output: List\n",
    "\n",
    "\n",
    "----------------------------------------------------------------------\n",
    "\n",
    "\n",
    "Sample input: [{4: 'Viking', 9: 'Happy', 10: 'Tony', 2: 'Rogers'}, {12: 'Vikram', 19: 'Vipan'}, {3: 'Kohli'}, {1: 'Ronaldo', 29: 'Harish', 7: 'Ganesh'}]\n",
    "\n",
    "\n",
    "Sample output: [{4: 'Viking', 9: 'Happy', 10: 'Tony', 2: 'Rogers'}, {1: 'Ronaldo', 29: 'Harish', 7: 'Ganesh'}, {12: 'Vikram', 19: 'Vipan'}, {3: 'Kohli'}]\n",
    "\n",
    "\n",
    "----------------------------------------------------------------------"
   ]
  },
  {
   "cell_type": "code",
   "execution_count": null,
   "id": "52c7708e-12b6-40aa-8f11-0deb94161431",
   "metadata": {},
   "outputs": [],
   "source": [
    "#take input here using ast sys\n",
    "import ast\n",
    "input_list = ast.literal_eval(input())\n",
    "# write the code here\n",
    "ans = sorted(input_list, key=lambda x:len(x),reverse=True)\n",
    "print(ans)"
   ]
  }
 ],
 "metadata": {
  "kernelspec": {
   "display_name": "Python 3 (ipykernel)",
   "language": "python",
   "name": "python3"
  },
  "language_info": {
   "codemirror_mode": {
    "name": "ipython",
    "version": 3
   },
   "file_extension": ".py",
   "mimetype": "text/x-python",
   "name": "python",
   "nbconvert_exporter": "python",
   "pygments_lexer": "ipython3",
   "version": "3.9.7"
  }
 },
 "nbformat": 4,
 "nbformat_minor": 5
}
