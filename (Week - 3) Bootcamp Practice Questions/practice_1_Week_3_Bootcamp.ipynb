{
 "cells": [
  {
   "cell_type": "markdown",
   "id": "4487d3f0-7396-46fb-8603-9df98bb45886",
   "metadata": {},
   "source": [
    "#### **Even numbers in a list**\n",
    "Description\n",
    "\n",
    "Given a list of integers, write a python code to find all the even numbers present in the list.\n",
    "\n",
    "\n",
    "Note: Try using lambda and filter functions to solve the problem.\n",
    "\n",
    "\n",
    "Input: A list of integers\n",
    "\n",
    "Output: A list of integers\n",
    "\n",
    "\n",
    "----------------------------------------------------------------------\n",
    "\n",
    "\n",
    "Sample input: [5, 7, 22, 97, 54, 62, 77, 23, 73, 61] \n",
    "\n",
    "Sample output: [22, 54, 62]\n",
    "\n",
    "\n",
    "----------------------------------------------------------------------"
   ]
  },
  {
   "cell_type": "code",
   "execution_count": null,
   "id": "1c1e5b31-4367-47e3-b58d-8a7028a603fd",
   "metadata": {},
   "outputs": [],
   "source": [
    "#take input here using ast sys\n",
    "import ast\n",
    "input_lst = ast.literal_eval(input())\n",
    "# write the code here\n",
    "ans = list(filter(lambda x: x % 2 == 0,input_lst))\n",
    "\n",
    "print(ans)"
   ]
  },
  {
   "cell_type": "markdown",
   "id": "ee1f719a-1c8b-4b91-ae84-fca385371e2b",
   "metadata": {},
   "source": [
    "#### **Triple the list elements**\n",
    "Description\n",
    "\n",
    "Given a list of integers, write a python code to triple all the values in the list.\n",
    "\n",
    "\n",
    "Note: Try using lambda and map functions to solve the problem.\n",
    "\n",
    "\n",
    "Input: A list of integers\n",
    "\n",
    "Output: A list of integers\n",
    "\n",
    "\n",
    "----------------------------------------------------------------------\n",
    "\n",
    "\n",
    "Sample input: [5, 7, 22, 97, 54, 62, 77, 23, 73, 61]\n",
    "\n",
    "Output: [15, 21, 66, 291, 162, 186, 231, 69, 219, 183]\n",
    "\n",
    "\n",
    "----------------------------------------------------------------------"
   ]
  },
  {
   "cell_type": "code",
   "execution_count": null,
   "id": "f4106fae-d1d0-48ee-9bca-2cb10476d4cd",
   "metadata": {},
   "outputs": [],
   "source": [
    "#take input here using ast sys\n",
    "import ast\n",
    "input_lst = ast.literal_eval(input())\n",
    "# write the code here\n",
    "\n",
    "ans = list(map(lambda x: x * 3, input_lst))\n",
    "print(ans)"
   ]
  },
  {
   "cell_type": "markdown",
   "id": "a48977aa-fff8-4b88-aaf6-480d933ea2d0",
   "metadata": {},
   "source": [
    "#### **Encrypt elements in a list**\n",
    "Description\n",
    "\n",
    "A company stores the names of their employees in a list. They want to encrypt the names so that no one can read them and the data stays safe. One of the steps in encrypting is to reverse each name in the list and convert them to uppercase and your task is to write a Python code to execute the same.\n",
    "\n",
    "\n",
    "Note: Use lambda and map functions.\n",
    "\n",
    "\n",
    "Input: A list of names\n",
    "\n",
    "Output: A list of encrypted names\n",
    "\n",
    "\n",
    "----------------------------------------------------------------------\n",
    "\n",
    "\n",
    "Sample input: ['Ronaldo', 'Cristiano', 'Rakesh', 'Ronak']\n",
    "\n",
    "Sample output: ['ODLANOR', 'ONAITSIRC', 'HSEKAR', 'KANOR']\n",
    "\n",
    "\n",
    "----------------------------------------------------------------------"
   ]
  },
  {
   "cell_type": "code",
   "execution_count": null,
   "id": "e26c4322-eec7-4985-9938-bb4767dbcc3c",
   "metadata": {},
   "outputs": [],
   "source": [
    "#take input here using ast sys\n",
    "import ast\n",
    "input_lst = ast.literal_eval(input())\n",
    "# write the code here\n",
    "ans = list(map(lambda x: x[::-1].upper(),input_lst))\n",
    "print(ans)"
   ]
  }
 ],
 "metadata": {
  "kernelspec": {
   "display_name": "Python 3 (ipykernel)",
   "language": "python",
   "name": "python3"
  },
  "language_info": {
   "codemirror_mode": {
    "name": "ipython",
    "version": 3
   },
   "file_extension": ".py",
   "mimetype": "text/x-python",
   "name": "python",
   "nbconvert_exporter": "python",
   "pygments_lexer": "ipython3",
   "version": "3.9.7"
  }
 },
 "nbformat": 4,
 "nbformat_minor": 5
}
