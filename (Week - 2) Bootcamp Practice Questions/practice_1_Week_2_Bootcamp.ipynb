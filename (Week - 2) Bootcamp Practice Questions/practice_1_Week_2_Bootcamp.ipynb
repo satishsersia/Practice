{
 "cells": [
  {
   "cell_type": "markdown",
   "id": "cfd1f854-4f77-4d92-b342-7f41a5b6a120",
   "metadata": {},
   "source": [
    "# Practice Questions - I"
   ]
  },
  {
   "cell_type": "markdown",
   "id": "d3125033-7a61-47a3-be7c-8dfaf2a24982",
   "metadata": {},
   "source": [
    "#### **List sum**\n",
    "Description\n",
    "\n",
    "Suppose you want to know the total score of the Indian cricket team in a given match. To do so, your task is to find the sum of all the scores of the Indian team players. The scores are provided as a list, with each element as an individual score of the players. Also, there is a condition that if the number of elements in the list is more than 11, then it is an invalid input and the output should be -1.\n",
    "\n",
    "--------------------------------------------------------------------------------------------\n",
    "Input - List\n",
    "Output - An integer\n",
    "\n",
    "--------------------------------------------------------------------------------------------\n",
    "Sample Input : [11, 13, 101, 14, 33, 141]\n",
    "\n",
    "Sample Output : 313\n",
    "\n",
    "---------------------------------------------------------------------------------------------"
   ]
  },
  {
   "cell_type": "code",
   "execution_count": null,
   "id": "6904cef4-e668-494e-99a4-a437fb864471",
   "metadata": {},
   "outputs": [],
   "source": [
    "import ast, sys\n",
    "\n",
    "#Take input \n",
    "input_str = sys.stdin.read()\n",
    "input_list = ast.literal_eval(input_str)\n",
    "\n",
    "#Write your code here\n",
    "if len(input_list) > 11:\n",
    "    print(-1)\n",
    "else:\n",
    "    print(sum(input_list))"
   ]
  },
  {
   "cell_type": "markdown",
   "id": "06e72dfc-b278-4fe0-b883-4080a5837592",
   "metadata": {},
   "source": [
    "#### **Length of list elements**\n",
    "\n",
    "Description\n",
    "\n",
    "Given a list of strings, write a program to find the number of strings whose length is greater than or equal to K, where K is a positive integer.\n",
    "\n",
    "\n",
    "Input - List of strings and an integer\n",
    "\n",
    "Output - Integer\n",
    "\n",
    "\n",
    "--------------------------------------------------------------------------------\n",
    "\n",
    "\n",
    "Sample Input :\n",
    "\n",
    "[Mumbai, Hyderabad, Calicut, Chennai]\n",
    "\n",
    "  9\n",
    "  \n",
    "-------------------------------------------------------------------------------\n"
   ]
  },
  {
   "cell_type": "code",
   "execution_count": null,
   "id": "547fa9f9-8d76-4a9a-b31f-9f2edeed10d8",
   "metadata": {},
   "outputs": [],
   "source": [
    "import sys,ast\n",
    "\n",
    "#Take input here using ast sys\n",
    "\n",
    "input_str = sys.stdin.read().split('\\n')\n",
    "input_list = ast.literal_eval(input_str[0])\n",
    "k = int(input_str[1])\n",
    "\n",
    "#start writing your code here\n",
    "count = 0 \n",
    "for i in input_list:\n",
    "    if len(i) >= k:\n",
    "        count += 1\n",
    "print(count)"
   ]
  },
  {
   "cell_type": "markdown",
   "id": "8dfaa5b2-a1c9-4331-a628-1608cfb4ac1d",
   "metadata": {},
   "source": [
    "#### **Increment a list element**\n",
    "\n",
    "Description\n",
    "\n",
    "Given a list of strings, increment the value of the numeric strings by 'k’. \n",
    "\n",
    "\n",
    "Hint: The function isdigit() may be useful here.\n",
    "\n",
    "\n",
    "---------------------------------------------------------------------------------------------\n",
    "\n",
    "\n",
    "Input - A list in the first line and an integer in the second line\n",
    "\n",
    "Output - A list\n",
    "\n",
    "---------------------------------------------------------------------------------------------\n",
    "\n",
    "Sample Input :\n",
    "\n",
    "['Python', '123', 'Data']\n",
    "\n",
    "  4\n",
    "\n",
    "Sample Output : ['Python', '127', 'Data']\n",
    "\n",
    "\n",
    "---------------------------------------------------------------------------------------------"
   ]
  },
  {
   "cell_type": "code",
   "execution_count": null,
   "id": "73f32d99-e31f-4e57-a40e-c65bd35b9fe2",
   "metadata": {},
   "outputs": [],
   "source": [
    "#Input has been taken for you\n",
    "import ast\n",
    "input_list = ast.literal_eval(input())\n",
    "K = int(input())\n",
    "\n",
    "#write the code\n",
    "for i in range(0,len(input_list)):\n",
    "    if input_list[i].isdigit():\n",
    "        input_list[i] = str(int(input_list[i]) + K)\n",
    "print(input_list)"
   ]
  },
  {
   "cell_type": "markdown",
   "id": "0c5c8da9-3a25-4935-adbf-ceabbb885ac0",
   "metadata": {},
   "source": [
    "#### **Slicing a list**\n",
    "\n",
    "Description\n",
    "\n",
    "Given a list of strings and an integer K, write a python code to print all the elements from the K th position till the end of the list.\n",
    "\n",
    "\n",
    "Note: Assume that K (a positive integer) will always be less than or equal to the length of the list\n",
    "\n",
    "Input - A list of strings in the first line and an integer in the second line of the input.\n",
    "\n",
    "Output - A list\n",
    "\n",
    "\n",
    "--------------------------------------------------------------------------------------------------------\n",
    "\n",
    "\n",
    "Sample Input :\n",
    "\n",
    "['Mumbai', 'Delhi', 'Australia', 'Nigeria', 'USA', 'London', 'Canada']\n",
    "\n",
    "2\n",
    "\n",
    "\n",
    "Sample Output : ['Delhi', 'Australia', 'Nigeria', 'USA', 'London', 'Canada']\n",
    "\n",
    "\n",
    "--------------------------------------------------------------------------------------------------------"
   ]
  },
  {
   "cell_type": "code",
   "execution_count": null,
   "id": "26bf719e-3ade-4a15-9f97-f1f53003edeb",
   "metadata": {},
   "outputs": [],
   "source": [
    "#read the input using the ast sys\n",
    "import ast\n",
    "input_list = ast.literal_eval(input())\n",
    "K = int(input())\n",
    "\n",
    "#Write the code here\n",
    "print(input_list[K-1:])"
   ]
  }
 ],
 "metadata": {
  "kernelspec": {
   "display_name": "Python 3 (ipykernel)",
   "language": "python",
   "name": "python3"
  },
  "language_info": {
   "codemirror_mode": {
    "name": "ipython",
    "version": 3
   },
   "file_extension": ".py",
   "mimetype": "text/x-python",
   "name": "python",
   "nbconvert_exporter": "python",
   "pygments_lexer": "ipython3",
   "version": "3.9.7"
  }
 },
 "nbformat": 4,
 "nbformat_minor": 5
}
