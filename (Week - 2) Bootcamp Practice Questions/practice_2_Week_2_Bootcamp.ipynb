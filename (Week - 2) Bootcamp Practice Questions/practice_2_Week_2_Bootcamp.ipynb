{
 "cells": [
  {
   "cell_type": "markdown",
   "id": "96cca4ab-1899-4e6f-942f-db52f6dc7c6c",
   "metadata": {},
   "source": [
    "# Practice Questions - II"
   ]
  },
  {
   "cell_type": "markdown",
   "id": "8ea94718-fe70-4c7a-b8f2-fb40b232900d",
   "metadata": {},
   "source": [
    "### **Substring with maximum uppercase characters**\n",
    "Description\n",
    "\n",
    "Given a string, write a Python program to find the largest substring of uppercase characters and print the length of that substring. Check the sample inputs and outputs for a better understanding.\n",
    "\n",
    "\n",
    "---------------------------------------------------------------------------------------------------\n",
    "\n",
    "Input - String\n",
    "\n",
    "Output - String\n",
    "\n",
    "---------------------------------------------------------------------------------------------------\n",
    "\n",
    "\n",
    "Sample Input - I lovE PRogrAMMING\n",
    "\n",
    "Sample Output - 6\n",
    "\n",
    "\n",
    "Explanation - AMMING is the largest substring with all characters in uppercase continuously \n",
    "\n",
    "\n",
    "-----------------------------------------------------------------------------------------------------"
   ]
  },
  {
   "cell_type": "code",
   "execution_count": null,
   "id": "d7592168-d9fe-47dc-945b-53c020de2ca7",
   "metadata": {},
   "outputs": [],
   "source": [
    "#Take input here\n",
    "test_str = input()\n",
    "\n",
    "#Write the code here\n",
    "count = 0\n",
    "L = []\n",
    "\n",
    "for i in test_str:\n",
    "    if i.isupper():\n",
    "        count+=1\n",
    "        L.append(count)\n",
    "    else:\n",
    "        count = 0\n",
    "        \n",
    "print(max(L))"
   ]
  },
  {
   "cell_type": "markdown",
   "id": "6467c1f8-cf47-418a-937d-d01787fde2a2",
   "metadata": {},
   "source": [
    "#### **Sorting list of tuples**\n",
    "Description\n",
    "\n",
    "A class of students attempt an exam in two parts: ‘Aptitude’ and ‘Physics'. The marks of all the students are stored as a list of tuples, and each student’s marks (in Aptitude and Physics) are stored in each tuple. Your task is to write a Python program to sort the list of tuples in decreasing order of the Physics scores of the students.\n",
    "\n",
    "\n",
    "Note - Marks of both the subjects are ranged between 1-100, and no two students have scored the same marks in Physics.\n",
    "\n",
    "\n",
    "---------------------------------------------------------------------------------------------------\n",
    "\n",
    "Input - List of tuples\n",
    "\n",
    "Output - List of tuples\n",
    "\n",
    "\n",
    "---------------------------------------------------------------------------------------------------\n",
    "\n",
    "\n",
    "Sample Input - [(45,77), (88,87), (67,98), (33,31)]\n",
    "\n",
    "\n",
    "In (45,77), which is the first element in the list, 45 and 77 are the scores of a student in aptitude and physics respectively.\n",
    "\n",
    "\n",
    "Sample Output - [ (67,98), (88,87), (45,77),(33,31)]\n",
    "\n",
    "\n",
    "---------------------------------------------------------------------------------------------------"
   ]
  },
  {
   "cell_type": "code",
   "execution_count": null,
   "id": "957219bd-2f91-4d2c-a3ae-272b4c26b6ff",
   "metadata": {},
   "outputs": [],
   "source": [
    "import ast\n",
    "#Take input \n",
    "mark_list = input()\n",
    "\n",
    "#write your code here\n",
    "mark_list.sort(key = lambda x : x[1], reverse = True)\n",
    "print(mark_list)"
   ]
  },
  {
   "cell_type": "markdown",
   "id": "f3b8ceeb-527a-4a41-9539-8d2a4cc0d18c",
   "metadata": {},
   "source": [
    "#### **Divisibility check**\n",
    "Description\n",
    "\n",
    "Given an integer ‘n’, your task is to write a Python code to find whether ‘n’ is divisible by all its digits or not. If they divide the number, then the number ‘n’ is a happy number. Otherwise, it is a sad number.\n",
    "\n",
    "The number ‘n’ may be provided with commas. At first, you have to clean the number (by removing the commas involved) and then check whether the number is happy or sad.\n",
    "\n",
    "---------------------------------------------------------------------------------------------------\n",
    "\n",
    "\n",
    "Input - String\n",
    "\n",
    "Output - String\n",
    "\n",
    "\n",
    "---------------------------------------------------------------------------------------------------\n",
    "\n",
    "Sample Input - 2,128\n",
    "\n",
    "Sample Output - Happy Number\n",
    "\n",
    "\n",
    "---------------------------------------------------------------------------------------------------"
   ]
  },
  {
   "cell_type": "code",
   "execution_count": null,
   "id": "4f24a4f1-aacf-4c42-965d-b70863f424e6",
   "metadata": {},
   "outputs": [],
   "source": [
    "# Take input as a string\n",
    "n = input()\n",
    "\n",
    "# write your code here\n",
    "n = n.replace(',',\"\")\n",
    "integer = int(n)\n",
    "flag =True\n",
    "for dig in  n:\n",
    "    if not (int(dig) != 0 and integer % int(dig) == 0) :\n",
    "        flag = False\n",
    "        break\n",
    "if flag:\n",
    "    print('Happy Number')\n",
    "else:\n",
    "    print('Sad Number')"
   ]
  }
 ],
 "metadata": {
  "kernelspec": {
   "display_name": "Python 3 (ipykernel)",
   "language": "python",
   "name": "python3"
  },
  "language_info": {
   "codemirror_mode": {
    "name": "ipython",
    "version": 3
   },
   "file_extension": ".py",
   "mimetype": "text/x-python",
   "name": "python",
   "nbconvert_exporter": "python",
   "pygments_lexer": "ipython3",
   "version": "3.9.7"
  }
 },
 "nbformat": 4,
 "nbformat_minor": 5
}
